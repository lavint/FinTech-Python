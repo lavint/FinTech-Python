{
 "cells": [
  {
   "cell_type": "code",
   "execution_count": null,
   "metadata": {},
   "outputs": [],
   "source": [
    "# print whole path and files/dirs inside\n",
    "%ls"
   ]
  },
  {
   "cell_type": "code",
   "execution_count": 2,
   "metadata": {},
   "outputs": [
    {
     "name": "stdout",
     "output_type": "stream",
     "text": [
      "algo-trading.md\n",
      "Conda_cheat_sheet.pdf\n",
      "Images\n",
      "machine-learning.md\n",
      "natural-language-processing.md\n",
      "neural-networks.md\n",
      "numpy.md\n",
      "pandas.md\n",
      "pythonMagic.ipynb\n",
      "pythonMagic1.ipynb\n",
      "pyviz-installation.md\n",
      "SQL_reference_guide.pdf\n",
      "visualization.md\n"
     ]
    }
   ],
   "source": [
    "# print only files/dirs in current dir\n",
    "!ls"
   ]
  },
  {
   "cell_type": "code",
   "execution_count": 10,
   "metadata": {},
   "outputs": [],
   "source": [
    "# create text file\n",
    "!touch file.txt"
   ]
  },
  {
   "cell_type": "code",
   "execution_count": 11,
   "metadata": {},
   "outputs": [],
   "source": [
    "# write to file\n",
    "!echo \"testline1\\nline2\" > file.txt"
   ]
  },
  {
   "cell_type": "code",
   "execution_count": 12,
   "metadata": {},
   "outputs": [
    {
     "name": "stdout",
     "output_type": "stream",
     "text": [
      "\"testline1\\nline2\" \n"
     ]
    }
   ],
   "source": [
    "!cat file.txt"
   ]
  },
  {
   "cell_type": "code",
   "execution_count": 13,
   "metadata": {},
   "outputs": [],
   "source": [
    "# write to file with new line\n",
    "!printf \"testline1\\nline2\" > file.txt"
   ]
  },
  {
   "cell_type": "code",
   "execution_count": 14,
   "metadata": {},
   "outputs": [
    {
     "name": "stdout",
     "output_type": "stream",
     "text": [
      "testline1\n",
      "line2\n"
     ]
    }
   ],
   "source": [
    "!cat file.txt"
   ]
  },
  {
   "cell_type": "code",
   "execution_count": 15,
   "metadata": {},
   "outputs": [],
   "source": [
    "# append to file\n",
    "!echo word >> file.txt"
   ]
  },
  {
   "cell_type": "code",
   "execution_count": 16,
   "metadata": {},
   "outputs": [
    {
     "name": "stdout",
     "output_type": "stream",
     "text": [
      "testline1\n",
      "line2word \n"
     ]
    }
   ],
   "source": [
    "!cat file.txt"
   ]
  },
  {
   "cell_type": "code",
   "execution_count": 17,
   "metadata": {},
   "outputs": [],
   "source": [
    "# append to file with new line\n",
    "!echo \\nline3 hahah >> file.txt"
   ]
  },
  {
   "cell_type": "code",
   "execution_count": 18,
   "metadata": {},
   "outputs": [
    {
     "name": "stdout",
     "output_type": "stream",
     "text": [
      "testline1\n",
      "line2word \n",
      "\\nline3 hahah\n"
     ]
    }
   ],
   "source": [
    "!cat file.txt"
   ]
  },
  {
   "cell_type": "code",
   "execution_count": null,
   "metadata": {},
   "outputs": [],
   "source": []
  }
 ],
 "metadata": {
  "kernelspec": {
   "display_name": "Python 3",
   "language": "python",
   "name": "python3"
  },
  "language_info": {
   "codemirror_mode": {
    "name": "ipython",
    "version": 3
   },
   "file_extension": ".py",
   "mimetype": "text/x-python",
   "name": "python",
   "nbconvert_exporter": "python",
   "pygments_lexer": "ipython3",
   "version": "3.7.6"
  }
 },
 "nbformat": 4,
 "nbformat_minor": 4
}
