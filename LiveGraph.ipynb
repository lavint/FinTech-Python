{
 "cells": [
  {
   "cell_type": "code",
   "execution_count": null,
   "metadata": {},
   "outputs": [],
   "source": [
    "import numpy as np\n",
    "\n",
    "\n",
    "# plt.axis([0, 10, 0, 1])\n",
    "\n",
    "# for i in range(10):\n",
    "#     y = np.random.random()\n",
    "#     plt.scatter(i, y)\n",
    "#     plt.pause(0.05)\n",
    "\n",
    "# plt.show()"
   ]
  },
  {
   "cell_type": "code",
   "execution_count": 1,
   "metadata": {},
   "outputs": [
    {
     "name": "stdout",
     "output_type": "stream",
     "text": [
      "BOND\n",
      "ANGEL\n",
      "DIHED\n"
     ]
    },
    {
     "data": {
      "image/png": "[encoded data removed]",
      "text/plain": [
       "<Figure size 432x288 with 1 Axes>"
      ]
     },
     "metadata": {
      "needs_background": "light"
     },
     "output_type": "display_data"
    }
   ],
   "source": [
    "import matplotlib.pyplot as plt\n",
    "import pandas as pd\n",
    "\n",
    "# plotting on the same graph with forloop\n",
    "df=pd.DataFrame({\"TS\":[1,2,3,4,5,6,7,8,9],\n",
    "                 \"BOND\":[54,34,54,56,34,12,34,56,78],\n",
    "                 \"ANGEL\":[34,56,47,14,58,70,36,14,36],\n",
    "                 \"DIHED\":[13,16,27,23,15,28,19,16,15]})\n",
    "\n",
    "# for col in df.columns[1:]:\n",
    "#     df.plot(x=col, y='TS')\n",
    "    \n",
    "fig, ax = plt.subplots()\n",
    "# ax=fig.add_axes([0,0,1,1])\n",
    "for i in df.columns[1:]:\n",
    "#     print(i)\n",
    "    ax.scatter(df[\"TS\"],df[i])\n",
    "\n",
    "# plt.plot(df[\"TS\"],df[\"BOND\"])\n",
    "# plt.plot(df[\"TS\"],df[\"ANGEL\"])"
   ]
  },
  {
   "cell_type": "code",
   "execution_count": 3,
   "metadata": {},
   "outputs": [
    {
     "data": {
      "image/png": "[encoded data removed]",
      "text/plain": [
       "<Figure size 432x288 with 1 Axes>"
      ]
     },
     "metadata": {
      "needs_background": "light"
     },
     "output_type": "display_data"
    }
   ],
   "source": [
    "import matplotlib.pyplot as plt\n",
    "import pandas as pd\n",
    "\n",
    "# plotting on the same graph with forloop\n",
    "df=pd.DataFrame({\"TS\":[1,2,3,4,5,6,7,8,9],\n",
    "                 \"BOND\":[54,34,54,56,34,12,34,56,78],\n",
    "                 \"ANGEL\":[34,56,47,14,58,70,36,14,36],\n",
    "                 \"DIHED\":[13,16,27,23,15,28,19,16,15]})\n",
    "\n",
    "    \n",
    "fig, ax = plt.subplots()\n",
    "for i in df.columns[1:]:\n",
    "    ax.scatter(df[\"TS\"],df[i])\n",
    "\n"
   ]
  },
  {
   "cell_type": "code",
   "execution_count": null,
   "metadata": {},
   "outputs": [],
   "source": []
  }
 ],
 "metadata": {
  "kernelspec": {
   "display_name": "Python 3",
   "language": "python",
   "name": "python3"
  },
  "language_info": {
   "codemirror_mode": {
    "name": "ipython",
    "version": 3
   },
   "file_extension": ".py",
   "mimetype": "text/x-python",
   "name": "python",
   "nbconvert_exporter": "python",
   "pygments_lexer": "ipython3",
   "version": "3.7.6"
  }
 },
 "nbformat": 4,
 "nbformat_minor": 4
}
